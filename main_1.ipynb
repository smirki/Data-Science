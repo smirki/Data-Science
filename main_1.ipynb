{
 "cells": [
  {
   "cell_type": "code",
   "execution_count": 2,
   "metadata": {},
   "outputs": [
    {
     "name": "stdout",
     "output_type": "stream",
     "text": [
      "                                    User ID  applications  \\\n",
      "0      00007820-89cb-4c1d-9940-eb270d605a35             1   \n",
      "1      00012b55-514c-421e-9c76-3300abbc1134             1   \n",
      "2      000157c1-b6a3-4c86-82c7-9ec1bda3799a             1   \n",
      "3      00020400-efab-4b10-8812-2a0aaf774841             1   \n",
      "4      0002f737-0cda-48fb-91ed-533f3d0eab05             1   \n",
      "...                                     ...           ...   \n",
      "99995  fffb48e8-fc77-49fe-ab4e-e99a0829a788             1   \n",
      "99996  fffb63e2-b1d6-4d73-b766-44ba50203c00             1   \n",
      "99997  fffba42b-265f-4269-a6d5-c8db7e3bd430             1   \n",
      "99998  fffd8e45-d5f8-4b06-b1a4-2d4bf527ee51             1   \n",
      "99999  fffe836d-3176-4766-81c0-8812d1d9a0a6             1   \n",
      "\n",
      "                         Reason  Loan_Amount  FICO_score Fico_Score_group  \\\n",
      "0      cover_an_unexpected_cost       100000         669             fair   \n",
      "1       credit_card_refinancing        70000         594             fair   \n",
      "2              home_improvement        10000         596             fair   \n",
      "3              home_improvement       100000         642             fair   \n",
      "4                major_purchase        30000         642             fair   \n",
      "...                         ...          ...         ...              ...   \n",
      "99995                     other        40000         724             good   \n",
      "99996            major_purchase        70000         621             fair   \n",
      "99997            major_purchase        80000         345             poor   \n",
      "99998         debt_conslidation        90000         448             poor   \n",
      "99999                     other        50000         501             poor   \n",
      "\n",
      "      Employment_Status       Employment_Sector  Monthly_Gross_Income  \\\n",
      "0             full_time  consumer_discretionary                  5024   \n",
      "1             full_time  information_technology                  5764   \n",
      "2             full_time  information_technology                  4017   \n",
      "3             part_time                  energy                  3129   \n",
      "4             full_time                  energy                  4220   \n",
      "...                 ...                     ...                   ...   \n",
      "99995         full_time        consumer_staples                  5800   \n",
      "99996         full_time        consumer_staples                  5691   \n",
      "99997         full_time             real_estate                  3312   \n",
      "99998         full_time             industrials                  4597   \n",
      "99999         full_time               materials                  2533   \n",
      "\n",
      "       Monthly_Housing_Payment  Ever_Bankrupt_or_Foreclose Lender  Approved  \\\n",
      "0                          927                           0      B         0   \n",
      "1                         1177                           0      B         0   \n",
      "2                         1487                           0      A         0   \n",
      "3                          904                           0      A         0   \n",
      "4                         1620                           0      A         0   \n",
      "...                        ...                         ...    ...       ...   \n",
      "99995                     1460                           0      A         0   \n",
      "99996                     2705                           0      B         0   \n",
      "99997                     1210                           0      C         0   \n",
      "99998                     1420                           0      C         0   \n",
      "99999                     2648                           0      A         0   \n",
      "\n",
      "       bounty  \n",
      "0           0  \n",
      "1           0  \n",
      "2           0  \n",
      "3           0  \n",
      "4           0  \n",
      "...       ...  \n",
      "99995       0  \n",
      "99996       0  \n",
      "99997       0  \n",
      "99998       0  \n",
      "99999       0  \n",
      "\n",
      "[100000 rows x 14 columns]\n"
     ]
    }
   ],
   "source": [
    "import pandas as pd\n",
    "import sklearn as sklearn\n",
    "\n",
    "df = pd.read_excel(r'file.xlsx', sheet_name='Sheet1')\n",
    "print(df)\n"
   ]
  },
  {
   "cell_type": "code",
   "execution_count": 3,
   "metadata": {},
   "outputs": [],
   "source": [
    "target_name = \"Lender\"\n",
    "target = df[target_name]\n",
    "\n",
    "data = df.drop(columns=[target_name])\n",
    "\n",
    "from sklearn.compose import make_column_selector as selector\n",
    "\n",
    "numerical_columns_selector = selector(dtype_exclude=object)\n",
    "categorical_columns_selector = selector(dtype_include=object)\n",
    "\n",
    "numerical_columns = numerical_columns_selector(data)\n",
    "categorical_columns = categorical_columns_selector(data)\n",
    "\n",
    "from sklearn.preprocessing import OneHotEncoder, StandardScaler\n",
    "\n",
    "categorical_preprocessor = OneHotEncoder(handle_unknown=\"ignore\")\n",
    "numerical_preprocessor = StandardScaler()\n",
    "\n",
    "from sklearn.compose import ColumnTransformer\n",
    "\n",
    "preprocessor = ColumnTransformer([\n",
    "    ('one-hot-encoder', categorical_preprocessor, categorical_columns),\n",
    "    ('standard_scaler', numerical_preprocessor, numerical_columns)])\n",
    "\n",
    "from sklearn.linear_model import LogisticRegression\n",
    "from sklearn.pipeline import make_pipeline\n",
    "\n",
    "model = make_pipeline(preprocessor, LogisticRegression(max_iter=500))\n",
    "model\n",
    "\n",
    "from sklearn.model_selection import train_test_split\n",
    "\n",
    "data_train, data_test, target_train, target_test = train_test_split(\n",
    "    data, target, random_state=42)\n",
    "\n"
   ]
  },
  {
   "cell_type": "code",
   "execution_count": 4,
   "metadata": {},
   "outputs": [
    {
     "data": {
      "text/plain": [
       "array(['A', 'A', 'A', ..., 'A', 'A', 'A'], dtype=object)"
      ]
     },
     "execution_count": 4,
     "metadata": {},
     "output_type": "execute_result"
    }
   ],
   "source": [
    "apps = data_train\n",
    "_ = model.fit(data_train, target_train)\n",
    "model.predict(data_test)"
   ]
  },
  {
   "cell_type": "code",
   "execution_count": 5,
   "metadata": {},
   "outputs": [],
   "source": [
    "apps[\"Lender\"] = target_train"
   ]
  },
  {
   "cell_type": "code",
   "execution_count": 6,
   "metadata": {},
   "outputs": [
    {
     "data": {
      "text/plain": [
       "0.62144"
      ]
     },
     "execution_count": 6,
     "metadata": {},
     "output_type": "execute_result"
    }
   ],
   "source": [
    "model.score(data_test, target_test)"
   ]
  },
  {
   "cell_type": "code",
   "execution_count": 7,
   "metadata": {},
   "outputs": [],
   "source": [
    "apps[\"Previous\"] = df[\"Lender\"]\n",
    "\n"
   ]
  },
  {
   "cell_type": "code",
   "execution_count": 9,
   "metadata": {},
   "outputs": [
    {
     "data": {
      "text/plain": [
       "98980    C\n",
       "69824    A\n",
       "9928     C\n",
       "75599    C\n",
       "95621    B\n",
       "Name: Lender, dtype: object"
      ]
     },
     "execution_count": 9,
     "metadata": {},
     "output_type": "execute_result"
    }
   ],
   "source": [
    "apps[\"Lender\"].head()"
   ]
  },
  {
   "cell_type": "code",
   "execution_count": 10,
   "metadata": {},
   "outputs": [],
   "source": [
    "# Create a dictionary to map lender names to their respective values\n",
    "lender_values = {'A': 250, 'B': 350, 'C': 150}\n",
    "\n",
    "# Create a function to calculate the difference between two lenders\n",
    "def calculate_difference(row):\n",
    "    previous_lender = row['Previous']\n",
    "    new_lender = row['Lender']\n",
    "    previous_value = lender_values.get(previous_lender, 0) # Default to 0 if not found\n",
    "    new_value = lender_values.get(new_lender, 0) # Default to 0 if not found\n",
    "    return new_value - previous_value\n",
    "\n",
    "# Create a new column \"Difference\" using the above function\n",
    "apps['Difference'] = apps.apply(calculate_difference, axis=1)\n"
   ]
  },
  {
   "cell_type": "code",
   "execution_count": 11,
   "metadata": {},
   "outputs": [
    {
     "data": {
      "text/plain": [
       "98980    0\n",
       "69824    0\n",
       "9928     0\n",
       "75599    0\n",
       "95621    0\n",
       "Name: Difference, dtype: int64"
      ]
     },
     "execution_count": 11,
     "metadata": {},
     "output_type": "execute_result"
    }
   ],
   "source": [
    "apps[\"Difference\"].head()"
   ]
  },
  {
   "cell_type": "code",
   "execution_count": 12,
   "metadata": {},
   "outputs": [
    {
     "name": "stdout",
     "output_type": "stream",
     "text": [
      "Mean Difference by Lender:\n",
      "Lender\n",
      "A    0.0\n",
      "B    0.0\n",
      "C    0.0\n",
      "Name: Difference, dtype: float64\n"
     ]
    }
   ],
   "source": [
    "grouped = apps.groupby(\"Lender\")[\"Difference\"].mean()\n",
    "\n",
    "# Print the mean Difference for each lender\n",
    "print(\"Mean Difference by Lender:\")\n",
    "print(grouped)"
   ]
  }
 ],
 "metadata": {
  "kernelspec": {
   "display_name": "Python 3",
   "language": "python",
   "name": "python3"
  },
  "language_info": {
   "codemirror_mode": {
    "name": "ipython",
    "version": 3
   },
   "file_extension": ".py",
   "mimetype": "text/x-python",
   "name": "python",
   "nbconvert_exporter": "python",
   "pygments_lexer": "ipython3",
   "version": "3.10.9"
  },
  "orig_nbformat": 4
 },
 "nbformat": 4,
 "nbformat_minor": 2
}
